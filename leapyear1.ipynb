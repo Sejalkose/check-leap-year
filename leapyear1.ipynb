{
  "nbformat": 4,
  "nbformat_minor": 0,
  "metadata": {
    "colab": {
      "provenance": [],
      "authorship_tag": "ABX9TyO5+ShfYiCRfkA/nVN5pvvJ",
      "include_colab_link": true
    },
    "kernelspec": {
      "name": "python3",
      "display_name": "Python 3"
    },
    "language_info": {
      "name": "python"
    }
  },
  "cells": [
    {
      "cell_type": "markdown",
      "metadata": {
        "id": "view-in-github",
        "colab_type": "text"
      },
      "source": [
        "<a href=\"https://colab.research.google.com/github/Sejalkose/check-leap-year/blob/main/leapyear1.ipynb\" target=\"_parent\"><img src=\"https://colab.research.google.com/assets/colab-badge.svg\" alt=\"Open In Colab\"/></a>"
      ]
    },
    {
      "cell_type": "code",
      "source": [
        "year = int(input(\"Enter the year: \"))\n",
        "\n",
        "#check if its divisible by 4\n",
        "if year % 4 == 0:\n",
        "  #if yes check if its divisible by 100 is yes its not a leap year\n",
        "  if year % 100 == 0:\n",
        "    #if its divisible by 400 then leap year\n",
        "    if year % 400 == 0:\n",
        "      print(\"Leap year\")\n",
        "    else:\n",
        "      print(\"Not leap year\")\n",
        "  else:\n",
        "    print(\"Leap year\")\n",
        "else:\n",
        "  print(\"Not leap year\")"
      ],
      "metadata": {
        "colab": {
          "base_uri": "https://localhost:8080/"
        },
        "id": "jZsAkYRNft3w",
        "outputId": "1815d839-f886-45ec-c389-7d3317c3a929"
      },
      "execution_count": 1,
      "outputs": [
        {
          "output_type": "stream",
          "name": "stdout",
          "text": [
            "Enter the year: 2002\n",
            "Not leap year\n"
          ]
        }
      ]
    }
  ]
}